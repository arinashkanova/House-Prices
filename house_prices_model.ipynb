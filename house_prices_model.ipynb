{
  "nbformat": 4,
  "nbformat_minor": 0,
  "metadata": {
    "kernelspec": {
      "display_name": "Python 3 (ipykernel)",
      "language": "python",
      "name": "python3"
    },
    "language_info": {
      "codemirror_mode": {
        "name": "ipython",
        "version": 3
      },
      "file_extension": ".py",
      "mimetype": "text/x-python",
      "name": "python",
      "nbconvert_exporter": "python",
      "pygments_lexer": "ipython3",
      "version": "3.9.5"
    },
    "colab": {
      "name": "house_price_model Prices_model.ipynb",
      "provenance": []
    },
    "accelerator": "GPU"
  },
  "cells": [
    {
      "cell_type": "markdown",
      "metadata": {
        "id": "2SKkNJVvMgaU"
      },
      "source": [
        "# House Prices Preprosesing<a class=\"anchor\" id=\"0-bullet\"></a>"
      ]
    },
    {
      "cell_type": "markdown",
      "metadata": {
        "id": "0FQhVtSrMgaW"
      },
      "source": [
        "* [1. Loading libraries and data](#1-bullet)\n",
        "  * [1.1 Categorical features](#1.1-bullet)\n",
        "* [2. LightGBM Regresssor](#2-bullet)\n",
        "  * [2.1 GridSearchCV](#2.1-bullet)\n",
        "  * [2.2 Feature importances](#2.2-bullet)\n",
        "  * [2.3 Result](#2.3-bullet)\n",
        "* [3. CatBoostRegressor](#3-bullet)\n",
        "* [4. Final Result](#4-bullet)"
      ]
    },
    {
      "cell_type": "markdown",
      "metadata": {
        "id": "boTu82QfMgaX"
      },
      "source": [
        "## 1. Loading libraries and data<a class=\"anchor\" id=\"1-bullet\"></a>\n",
        "[back to the table of contents](#0-bullet)"
      ]
    },
    {
      "cell_type": "code",
      "metadata": {
        "id": "8mghWquztSPY",
        "outputId": "e45cf049-1aef-41e2-df2a-ca5e0ee69dbb",
        "colab": {
          "base_uri": "https://localhost:8080/"
        }
      },
      "source": [
        "!pip install catboost"
      ],
      "execution_count": 32,
      "outputs": [
        {
          "output_type": "stream",
          "name": "stdout",
          "text": [
            "Collecting catboost\n",
            "  Downloading catboost-0.26.1-cp37-none-manylinux1_x86_64.whl (67.4 MB)\n",
            "\u001b[K     |████████████████████████████████| 67.4 MB 27 kB/s \n",
            "\u001b[?25hRequirement already satisfied: numpy>=1.16.0 in /usr/local/lib/python3.7/dist-packages (from catboost) (1.19.5)\n",
            "Requirement already satisfied: pandas>=0.24.0 in /usr/local/lib/python3.7/dist-packages (from catboost) (1.1.5)\n",
            "Requirement already satisfied: graphviz in /usr/local/lib/python3.7/dist-packages (from catboost) (0.10.1)\n",
            "Requirement already satisfied: scipy in /usr/local/lib/python3.7/dist-packages (from catboost) (1.4.1)\n",
            "Requirement already satisfied: six in /usr/local/lib/python3.7/dist-packages (from catboost) (1.15.0)\n",
            "Requirement already satisfied: plotly in /usr/local/lib/python3.7/dist-packages (from catboost) (4.4.1)\n",
            "Requirement already satisfied: matplotlib in /usr/local/lib/python3.7/dist-packages (from catboost) (3.2.2)\n",
            "Requirement already satisfied: python-dateutil>=2.7.3 in /usr/local/lib/python3.7/dist-packages (from pandas>=0.24.0->catboost) (2.8.2)\n",
            "Requirement already satisfied: pytz>=2017.2 in /usr/local/lib/python3.7/dist-packages (from pandas>=0.24.0->catboost) (2018.9)\n",
            "Requirement already satisfied: pyparsing!=2.0.4,!=2.1.2,!=2.1.6,>=2.0.1 in /usr/local/lib/python3.7/dist-packages (from matplotlib->catboost) (2.4.7)\n",
            "Requirement already satisfied: cycler>=0.10 in /usr/local/lib/python3.7/dist-packages (from matplotlib->catboost) (0.10.0)\n",
            "Requirement already satisfied: kiwisolver>=1.0.1 in /usr/local/lib/python3.7/dist-packages (from matplotlib->catboost) (1.3.1)\n",
            "Requirement already satisfied: retrying>=1.3.3 in /usr/local/lib/python3.7/dist-packages (from plotly->catboost) (1.3.3)\n",
            "Installing collected packages: catboost\n",
            "Successfully installed catboost-0.26.1\n"
          ]
        }
      ]
    },
    {
      "cell_type": "code",
      "metadata": {
        "id": "K7L__7zVMgaX"
      },
      "source": [
        "#for displaying all pins - not only last\n",
        "from IPython.core.interactiveshell import InteractiveShell\n",
        "InteractiveShell.ast_node_interactivity = 'all'\n",
        "\n",
        "#data\n",
        "import pandas as pd\n",
        "import numpy as np\n",
        "\n",
        "#for learning baseline-model\n",
        "from sklearn.model_selection import GridSearchCV\n",
        "\n",
        "import lightgbm\n",
        "import catboost\n",
        "from catboost import CatBoostRegressor"
      ],
      "execution_count": 33,
      "outputs": []
    },
    {
      "cell_type": "code",
      "metadata": {
        "colab": {
          "base_uri": "https://localhost:8080/"
        },
        "id": "Rbfs0WwuOa1B",
        "outputId": "d7d781c0-9303-4926-8645-691fd6c90c5e"
      },
      "source": [
        "cd /content/drive/MyDrive/House Prices"
      ],
      "execution_count": 8,
      "outputs": [
        {
          "output_type": "stream",
          "name": "stdout",
          "text": [
            "/content/drive/MyDrive/House Prices\n"
          ]
        }
      ]
    },
    {
      "cell_type": "code",
      "metadata": {
        "id": "TNGoNnLHMgaY"
      },
      "source": [
        "df_train_x = pd.read_csv('/data/df_train_x')\n",
        "df_test = pd.read_csv('/data/df_test')\n",
        "train_global = pd.read_csv('/data/train.csv')\n",
        "df_train_y = train_global['SalePrice']"
      ],
      "execution_count": 9,
      "outputs": []
    },
    {
      "cell_type": "markdown",
      "metadata": {
        "id": "tAhYmkdd1Gd-"
      },
      "source": [
        "### 1.1 Categorical features <a class=\"anchor\" id=\"1.1-bullet\"></a>"
      ]
    },
    {
      "cell_type": "code",
      "metadata": {
        "id": "YCh5M8VwTFWG"
      },
      "source": [
        "all_cat_features = [\n",
        "    'MSZoning', 'Street', 'Alley', 'LotShape', \n",
        "    'LandContour', 'Utilities', 'LotConfig', \n",
        "    'LandSlope', 'Neighborhood', 'Condition1',\n",
        "    'Condition2', 'BldgType', 'HouseStyle',\n",
        "    'RoofStyle', 'RoofMatl', 'Exterior1st',\n",
        "    'Exterior2nd', 'MasVnrType', 'ExterQual',\n",
        "    'ExterCond', 'Foundation', 'BsmtQual',\n",
        "    'BsmtCond', 'BsmtExposure', 'BsmtFinType1', \n",
        "    'BsmtFinType2', 'Heating', 'HeatingQC',\n",
        "    'CentralAir', 'Electrical', 'KitchenQual',\n",
        "    'Functional', 'FireplaceQu', 'GarageType', 'GarageFinish',\n",
        "    'GarageQual', 'GarageCond', 'PavedDrive', 'PoolQC',\n",
        "    'Fence', 'MiscFeature', 'SaleType', 'SaleCondition', \n",
        "    'MSSubClass', 'OverallQual', 'OverallCond', 'BsmtFullBath',\n",
        "    'BsmtHalfBath', 'FullBath', 'HalfBath','BedroomAbvGr',\n",
        "    'KitchenAbvGr','TotRmsAbvGrd','Fireplaces', 'GarageAge', 'RemodAge', 'Cat_RemodAge',\n",
        "    'GarageCars', 'MoSold', 'YrSold', 'GarageYrBlt', 'YearBuilt', 'YearRemodAdd', 'YrBltAndRemod', 'YearsSinceRemodel', 'HouseAge',   'Cat_HouseAge']"
      ],
      "execution_count": 12,
      "outputs": []
    },
    {
      "cell_type": "code",
      "metadata": {
        "id": "4RZT4C-luekH"
      },
      "source": [
        "#change all categorical numeric values to strings - it's nessesary for trainig CatboostReg\n",
        "for x in all_cat_features:\n",
        "    df_train_x[x] = df_train_x[x].astype(str)\n",
        "  \n",
        "for x in all_cat_features:\n",
        "    df_test[x] = df_test[x].astype(str)"
      ],
      "execution_count": 36,
      "outputs": []
    },
    {
      "cell_type": "code",
      "metadata": {
        "id": "kV2MJvXdvSqq"
      },
      "source": [
        "#change all categorical values to category\n",
        "for c in all_cat_features:\n",
        "    df_train_x[c] = df_train_x[c].astype('category')\n",
        "\n",
        "for c in all_cat_features:\n",
        "    df_test[c] = df_test[c].astype('category')"
      ],
      "execution_count": 55,
      "outputs": []
    },
    {
      "cell_type": "markdown",
      "metadata": {
        "id": "4cKIThn50cA_"
      },
      "source": [
        "## 2. LightGBM Regresssor <a class=\"anchor\" id=\"2-bullet\"></a>\n",
        "[back to the table of contents](#0-bullet)"
      ]
    },
    {
      "cell_type": "code",
      "metadata": {
        "id": "rpT3oSLspAEr"
      },
      "source": [
        "lgbm = lightgbm.LGBMRegressor(learning_rate=0.07,\n",
        "                              categorical_feature = all_cat_features) "
      ],
      "execution_count": 39,
      "outputs": []
    },
    {
      "cell_type": "markdown",
      "metadata": {
        "id": "leKj7KE81Yt9"
      },
      "source": [
        "### 2.1 GridSearchCV <a class=\"anchor\" id=\"2.1-bullet\"></a>"
      ]
    },
    {
      "cell_type": "code",
      "metadata": {
        "id": "-G4qq8OhpW79"
      },
      "source": [
        "param_grid = {\n",
        "    'n_estimators': [600, 700, 800, 7000 ],\n",
        "    'max_depth': np.arange(4, 10, 30) #[i for i in range(10, 30)]\n",
        "}\n",
        "cv = GridSearchCV(\n",
        "    estimator=lgbm,\n",
        "    param_grid=param_grid,\n",
        "    scoring='neg_root_mean_squared_error', \n",
        "    cv=5, \n",
        "    n_jobs=-1\n",
        ")"
      ],
      "execution_count": 40,
      "outputs": []
    },
    {
      "cell_type": "code",
      "metadata": {
        "colab": {
          "base_uri": "https://localhost:8080/"
        },
        "id": "JqqE3_yppZw_",
        "outputId": "5195d110-2275-4cb6-d5da-dc4dd43249d3"
      },
      "source": [
        "cv.fit(df_train_x, df_train_y)"
      ],
      "execution_count": 41,
      "outputs": [
        {
          "output_type": "stream",
          "name": "stderr",
          "text": [
            "/usr/local/lib/python3.7/dist-packages/lightgbm/basic.py:741: UserWarning: categorical_feature keyword has been found in `params` and will be ignored.\n",
            "Please use categorical_feature argument of the Dataset constructor to pass this parameter.\n",
            "  .format(key))\n",
            "/usr/local/lib/python3.7/dist-packages/lightgbm/basic.py:762: UserWarning: categorical_feature in param dict is overridden.\n",
            "  warnings.warn('categorical_feature in param dict is overridden.')\n"
          ]
        },
        {
          "output_type": "execute_result",
          "data": {
            "text/plain": [
              "GridSearchCV(cv=5, error_score=nan,\n",
              "             estimator=LGBMRegressor(boosting_type='gbdt',\n",
              "                                     categorical_feature=['MSZoning', 'Street',\n",
              "                                                          'Alley', 'LotShape',\n",
              "                                                          'LandContour',\n",
              "                                                          'Utilities',\n",
              "                                                          'LotConfig',\n",
              "                                                          'LandSlope',\n",
              "                                                          'Neighborhood',\n",
              "                                                          'Condition1',\n",
              "                                                          'Condition2',\n",
              "                                                          'BldgType',\n",
              "                                                          'HouseStyle',\n",
              "                                                          'RoofStyle',\n",
              "                                                          'RoofMatl',\n",
              "                                                          'Exterior1st',\n",
              "                                                          'Exterior2nd',\n",
              "                                                          'MasVnrType',\n",
              "                                                          'ExterQual',\n",
              "                                                          'ExterCond',\n",
              "                                                          'Foundat...\n",
              "                                     n_estimators=100, n_jobs=-1, num_leaves=31,\n",
              "                                     objective=None, random_state=None,\n",
              "                                     reg_alpha=0.0, reg_lambda=0.0, silent=True,\n",
              "                                     subsample=1.0, subsample_for_bin=200000,\n",
              "                                     subsample_freq=0),\n",
              "             iid='deprecated', n_jobs=-1,\n",
              "             param_grid={'max_depth': array([4]),\n",
              "                         'n_estimators': [600, 700, 800, 7000]},\n",
              "             pre_dispatch='2*n_jobs', refit=True, return_train_score=False,\n",
              "             scoring='neg_root_mean_squared_error', verbose=0)"
            ]
          },
          "metadata": {},
          "execution_count": 41
        }
      ]
    },
    {
      "cell_type": "code",
      "metadata": {
        "colab": {
          "base_uri": "https://localhost:8080/"
        },
        "id": "zsqdSuwZpzT8",
        "outputId": "a459e75d-bb8f-4a5e-9b9b-6adced7dd968"
      },
      "source": [
        "cv.best_params_\n",
        "lgbm_best = lightgbm.LGBMRegressor(**cv.best_params_,learning_rate=0.07,\n",
        "                              categorical_feature = all_cat_features)"
      ],
      "execution_count": 42,
      "outputs": [
        {
          "output_type": "execute_result",
          "data": {
            "text/plain": [
              "{'max_depth': 4, 'n_estimators': 600}"
            ]
          },
          "metadata": {},
          "execution_count": 42
        }
      ]
    },
    {
      "cell_type": "code",
      "metadata": {
        "id": "LTfaPQRmqy21",
        "outputId": "be7526b2-d236-4f4a-cfed-8fdd79070de0",
        "colab": {
          "base_uri": "https://localhost:8080/"
        }
      },
      "source": [
        "lgbm_best.fit(df_train_x, df_train_y)"
      ],
      "execution_count": 43,
      "outputs": [
        {
          "output_type": "stream",
          "name": "stderr",
          "text": [
            "/usr/local/lib/python3.7/dist-packages/lightgbm/basic.py:741: UserWarning: categorical_feature keyword has been found in `params` and will be ignored.\n",
            "Please use categorical_feature argument of the Dataset constructor to pass this parameter.\n",
            "  .format(key))\n",
            "/usr/local/lib/python3.7/dist-packages/lightgbm/basic.py:762: UserWarning: categorical_feature in param dict is overridden.\n",
            "  warnings.warn('categorical_feature in param dict is overridden.')\n"
          ]
        },
        {
          "output_type": "execute_result",
          "data": {
            "text/plain": [
              "LGBMRegressor(boosting_type='gbdt',\n",
              "              categorical_feature=['MSZoning', 'Street', 'Alley', 'LotShape',\n",
              "                                   'LandContour', 'Utilities', 'LotConfig',\n",
              "                                   'LandSlope', 'Neighborhood', 'Condition1',\n",
              "                                   'Condition2', 'BldgType', 'HouseStyle',\n",
              "                                   'RoofStyle', 'RoofMatl', 'Exterior1st',\n",
              "                                   'Exterior2nd', 'MasVnrType', 'ExterQual',\n",
              "                                   'ExterCond', 'Foundation', 'BsmtQual',\n",
              "                                   'BsmtCond', 'BsmtExposure', 'B...\n",
              "                                   'CentralAir', 'Electrical', ...],\n",
              "              class_weight=None, colsample_bytree=1.0, importance_type='split',\n",
              "              learning_rate=0.07, max_depth=4, min_child_samples=20,\n",
              "              min_child_weight=0.001, min_split_gain=0.0, n_estimators=600,\n",
              "              n_jobs=-1, num_leaves=31, objective=None, random_state=None,\n",
              "              reg_alpha=0.0, reg_lambda=0.0, silent=True, subsample=1.0,\n",
              "              subsample_for_bin=200000, subsample_freq=0)"
            ]
          },
          "metadata": {},
          "execution_count": 43
        }
      ]
    },
    {
      "cell_type": "markdown",
      "metadata": {
        "id": "3XHl26mO2c-g"
      },
      "source": [
        "### 2.2 Feature importances <a class=\"anchor\" id=\"2.2-bullet\"></a>"
      ]
    },
    {
      "cell_type": "code",
      "metadata": {
        "id": "pMQCZUuqrLlq"
      },
      "source": [
        "best_features = pd.DataFrame(lgbm_best.feature_importances_)"
      ],
      "execution_count": 44,
      "outputs": []
    },
    {
      "cell_type": "code",
      "metadata": {
        "id": "YrJQbkxmra1f",
        "outputId": "017b8d58-6a7b-49bf-b4f6-4f76499ba247",
        "colab": {
          "base_uri": "https://localhost:8080/"
        }
      },
      "source": [
        "idx = lgbm_best.feature_importances_\n",
        "\n",
        "best_features = pd.DataFrame(idx, index = df_train_x.columns)\n",
        "best_features.rename(columns={0:'degree_of_influence'}, inplace =True)\n",
        "best_features = best_features.query('degree_of_influence > 0').sort_values(by='degree_of_influence', ascending=False)\n",
        "#best_features = best_features.query('degree_of_influence >= 91').sort_values(by='degree_of_influence', ascending=False)\n",
        "list_best_features = best_features.index\n",
        "list_best_features"
      ],
      "execution_count": 45,
      "outputs": [
        {
          "output_type": "execute_result",
          "data": {
            "text/plain": [
              "Index(['LotArea', 'TotalSF', 'Neighborhood', 'TotalBsmtSF', 'BsmtFinSF1',\n",
              "       'GrLivArea', 'BsmtUnfSF', 'LotFrontage', 'GarageArea',\n",
              "       'YearsSinceRemodel', '1stFlrSF', 'MoSold', 'MasVnrArea', 'OpenPorchSF',\n",
              "       'GarageYrBlt', '2ndFlrSF', 'WoodDeckSF', 'YearBuilt', 'YrBltAndRemod',\n",
              "       'YearRemodAdd', 'OverallQual', 'BsmtExposure', 'OverallCond',\n",
              "       'Fireplaces', 'GarageFinish', 'Exterior1st', 'TotRmsAbvGrd', 'FullBath',\n",
              "       'KitchenQual', 'LandContour', 'LotShape', 'MSSubClass', 'BsmtFullBath',\n",
              "       'Cat_HouseAge', 'HeatingQC', 'BsmtFinType1', 'Condition1',\n",
              "       'Cat_RemodAge', 'ExterQual', 'SaleCondition', 'HalfBath', 'CentralAir',\n",
              "       'BsmtCond', 'YrSold', 'ExterCond', 'Exterior2nd', 'BedroomAbvGr',\n",
              "       'Functional', 'Electrical', 'GarageType', 'Foundation', 'MasVnrType',\n",
              "       'BsmtHalfBath', 'LotConfig', 'FireplaceQu', 'BsmtQual', 'GarageCars',\n",
              "       'Alley', 'LandSlope', 'SaleType', 'Fence', 'MSZoning', 'RoofMatl',\n",
              "       'PavedDrive', 'KitchenAbvGr', 'BsmtFinType2'],\n",
              "      dtype='object')"
            ]
          },
          "metadata": {},
          "execution_count": 45
        }
      ]
    },
    {
      "cell_type": "code",
      "metadata": {
        "id": "WHAR-4ZTrmeT"
      },
      "source": [
        "list_best_all_cat_features = [x for x in list_best_features if x in all_cat_features]"
      ],
      "execution_count": 46,
      "outputs": []
    },
    {
      "cell_type": "code",
      "metadata": {
        "id": "btUBQ1hBsBNy"
      },
      "source": [
        "lgbm_best_feature = lightgbm.LGBMRegressor(**cv.best_params_,learning_rate=0.07,\n",
        "                              categorical_feature = list_best_all_cat_features) "
      ],
      "execution_count": 47,
      "outputs": []
    },
    {
      "cell_type": "code",
      "metadata": {
        "id": "6ypHqcn4sD4J",
        "outputId": "784c80e7-73d8-4cb0-e7f3-c4f871a01618",
        "colab": {
          "base_uri": "https://localhost:8080/"
        }
      },
      "source": [
        "lgbm_best_feature.fit(df_train_x[list_best_features], np.log(df_train_y))"
      ],
      "execution_count": 48,
      "outputs": [
        {
          "output_type": "stream",
          "name": "stderr",
          "text": [
            "/usr/local/lib/python3.7/dist-packages/lightgbm/basic.py:741: UserWarning: categorical_feature keyword has been found in `params` and will be ignored.\n",
            "Please use categorical_feature argument of the Dataset constructor to pass this parameter.\n",
            "  .format(key))\n",
            "/usr/local/lib/python3.7/dist-packages/lightgbm/basic.py:762: UserWarning: categorical_feature in param dict is overridden.\n",
            "  warnings.warn('categorical_feature in param dict is overridden.')\n"
          ]
        },
        {
          "output_type": "execute_result",
          "data": {
            "text/plain": [
              "LGBMRegressor(boosting_type='gbdt',\n",
              "              categorical_feature=['Neighborhood', 'YearsSinceRemodel',\n",
              "                                   'MoSold', 'GarageYrBlt', 'YearBuilt',\n",
              "                                   'YrBltAndRemod', 'YearRemodAdd',\n",
              "                                   'OverallQual', 'BsmtExposure', 'OverallCond',\n",
              "                                   'Fireplaces', 'GarageFinish', 'Exterior1st',\n",
              "                                   'TotRmsAbvGrd', 'FullBath', 'KitchenQual',\n",
              "                                   'LandContour', 'LotShape', 'MSSubClass',\n",
              "                                   'BsmtFullBath', 'Cat_HouseAge',...\n",
              "                                   'CentralAir', 'BsmtCond', ...],\n",
              "              class_weight=None, colsample_bytree=1.0, importance_type='split',\n",
              "              learning_rate=0.07, max_depth=4, min_child_samples=20,\n",
              "              min_child_weight=0.001, min_split_gain=0.0, n_estimators=600,\n",
              "              n_jobs=-1, num_leaves=31, objective=None, random_state=None,\n",
              "              reg_alpha=0.0, reg_lambda=0.0, silent=True, subsample=1.0,\n",
              "              subsample_for_bin=200000, subsample_freq=0)"
            ]
          },
          "metadata": {},
          "execution_count": 48
        }
      ]
    },
    {
      "cell_type": "markdown",
      "metadata": {
        "id": "fRg54LHp23Jo"
      },
      "source": [
        "### 2.3 Result <a class=\"anchor\" id=\"2.3-bullet\"></a>"
      ]
    },
    {
      "cell_type": "code",
      "metadata": {
        "id": "eIbH9HPEsPrC"
      },
      "source": [
        "y_pred_2 = np.exp(lgbm_best_feature.predict(df_test[list_best_features]))"
      ],
      "execution_count": 49,
      "outputs": []
    },
    {
      "cell_type": "code",
      "metadata": {
        "id": "m6dfgyNvseZW"
      },
      "source": [
        "submission = pd.read_csv('sample_submission.csv')\n",
        "submission['SalePrice'] = y_pred_2\n",
        "submission.to_csv('submission_2', index=False)"
      ],
      "execution_count": 50,
      "outputs": []
    },
    {
      "cell_type": "markdown",
      "metadata": {
        "id": "ej1SLB7N3Gr1"
      },
      "source": [
        "## 3. CatBoost Regresssor <a class=\"anchor\" id=\"3-bullet\"></a>\n",
        "[back to the table of contents](#0-bullet)"
      ]
    },
    {
      "cell_type": "code",
      "metadata": {
        "id": "ekIvCH0_sopx"
      },
      "source": [
        "catbst = catboost.CatBoostRegressor(depth = 4, iterations = 600, learning_rate=0.07,\n",
        "                              cat_features = list_best_all_cat_features)\n"
      ],
      "execution_count": 51,
      "outputs": []
    },
    {
      "cell_type": "code",
      "metadata": {
        "id": "jyRoZ622tiF3",
        "outputId": "4f10f376-5d11-4d3a-db78-cc7ac2813b50",
        "colab": {
          "base_uri": "https://localhost:8080/"
        }
      },
      "source": [
        "catbst.fit(df_train_x[list_best_features], np.log(df_train_y))"
      ],
      "execution_count": 52,
      "outputs": [
        {
          "output_type": "stream",
          "name": "stdout",
          "text": [
            "0:\tlearn: 0.3813701\ttotal: 69.6ms\tremaining: 41.7s\n",
            "1:\tlearn: 0.3649855\ttotal: 91.7ms\tremaining: 27.4s\n",
            "2:\tlearn: 0.3504213\ttotal: 110ms\tremaining: 21.9s\n",
            "3:\tlearn: 0.3367435\ttotal: 128ms\tremaining: 19.1s\n",
            "4:\tlearn: 0.3236043\ttotal: 142ms\tremaining: 16.9s\n",
            "5:\tlearn: 0.3116488\ttotal: 161ms\tremaining: 16s\n",
            "6:\tlearn: 0.2993609\ttotal: 179ms\tremaining: 15.2s\n",
            "7:\tlearn: 0.2882956\ttotal: 197ms\tremaining: 14.6s\n",
            "8:\tlearn: 0.2789472\ttotal: 216ms\tremaining: 14.2s\n",
            "9:\tlearn: 0.2694083\ttotal: 233ms\tremaining: 13.8s\n",
            "10:\tlearn: 0.2605752\ttotal: 250ms\tremaining: 13.4s\n",
            "11:\tlearn: 0.2518589\ttotal: 271ms\tremaining: 13.3s\n",
            "12:\tlearn: 0.2441913\ttotal: 287ms\tremaining: 13s\n",
            "13:\tlearn: 0.2372939\ttotal: 304ms\tremaining: 12.7s\n",
            "14:\tlearn: 0.2305619\ttotal: 322ms\tremaining: 12.5s\n",
            "15:\tlearn: 0.2246694\ttotal: 338ms\tremaining: 12.3s\n",
            "16:\tlearn: 0.2190849\ttotal: 358ms\tremaining: 12.3s\n",
            "17:\tlearn: 0.2139758\ttotal: 374ms\tremaining: 12.1s\n",
            "18:\tlearn: 0.2083928\ttotal: 390ms\tremaining: 11.9s\n",
            "19:\tlearn: 0.2030877\ttotal: 406ms\tremaining: 11.8s\n",
            "20:\tlearn: 0.1980383\ttotal: 422ms\tremaining: 11.6s\n",
            "21:\tlearn: 0.1928758\ttotal: 442ms\tremaining: 11.6s\n",
            "22:\tlearn: 0.1891715\ttotal: 461ms\tremaining: 11.6s\n",
            "23:\tlearn: 0.1853565\ttotal: 479ms\tremaining: 11.5s\n",
            "24:\tlearn: 0.1817581\ttotal: 497ms\tremaining: 11.4s\n",
            "25:\tlearn: 0.1787498\ttotal: 517ms\tremaining: 11.4s\n",
            "26:\tlearn: 0.1759561\ttotal: 536ms\tremaining: 11.4s\n",
            "27:\tlearn: 0.1730690\ttotal: 552ms\tremaining: 11.3s\n",
            "28:\tlearn: 0.1706928\ttotal: 569ms\tremaining: 11.2s\n",
            "29:\tlearn: 0.1687063\ttotal: 586ms\tremaining: 11.1s\n",
            "30:\tlearn: 0.1665152\ttotal: 603ms\tremaining: 11.1s\n",
            "31:\tlearn: 0.1644687\ttotal: 620ms\tremaining: 11s\n",
            "32:\tlearn: 0.1623236\ttotal: 637ms\tremaining: 10.9s\n",
            "33:\tlearn: 0.1601532\ttotal: 652ms\tremaining: 10.9s\n",
            "34:\tlearn: 0.1583764\ttotal: 670ms\tremaining: 10.8s\n",
            "35:\tlearn: 0.1565117\ttotal: 692ms\tremaining: 10.8s\n",
            "36:\tlearn: 0.1549043\ttotal: 708ms\tremaining: 10.8s\n",
            "37:\tlearn: 0.1536862\ttotal: 724ms\tremaining: 10.7s\n",
            "38:\tlearn: 0.1523768\ttotal: 740ms\tremaining: 10.6s\n",
            "39:\tlearn: 0.1509112\ttotal: 756ms\tremaining: 10.6s\n",
            "40:\tlearn: 0.1494146\ttotal: 773ms\tremaining: 10.5s\n",
            "41:\tlearn: 0.1482919\ttotal: 790ms\tremaining: 10.5s\n",
            "42:\tlearn: 0.1473308\ttotal: 807ms\tremaining: 10.5s\n",
            "43:\tlearn: 0.1462110\ttotal: 824ms\tremaining: 10.4s\n",
            "44:\tlearn: 0.1453296\ttotal: 841ms\tremaining: 10.4s\n",
            "45:\tlearn: 0.1445286\ttotal: 857ms\tremaining: 10.3s\n",
            "46:\tlearn: 0.1437105\ttotal: 882ms\tremaining: 10.4s\n",
            "47:\tlearn: 0.1428805\ttotal: 903ms\tremaining: 10.4s\n",
            "48:\tlearn: 0.1422862\ttotal: 922ms\tremaining: 10.4s\n",
            "49:\tlearn: 0.1416475\ttotal: 940ms\tremaining: 10.3s\n",
            "50:\tlearn: 0.1407026\ttotal: 961ms\tremaining: 10.3s\n",
            "51:\tlearn: 0.1399319\ttotal: 978ms\tremaining: 10.3s\n",
            "52:\tlearn: 0.1390213\ttotal: 997ms\tremaining: 10.3s\n",
            "53:\tlearn: 0.1384790\ttotal: 1.01s\tremaining: 10.3s\n",
            "54:\tlearn: 0.1376726\ttotal: 1.03s\tremaining: 10.2s\n",
            "55:\tlearn: 0.1369211\ttotal: 1.05s\tremaining: 10.2s\n",
            "56:\tlearn: 0.1363484\ttotal: 1.06s\tremaining: 10.1s\n",
            "57:\tlearn: 0.1358517\ttotal: 1.09s\tremaining: 10.2s\n",
            "58:\tlearn: 0.1350556\ttotal: 1.1s\tremaining: 10.1s\n",
            "59:\tlearn: 0.1343862\ttotal: 1.12s\tremaining: 10.1s\n",
            "60:\tlearn: 0.1337748\ttotal: 1.14s\tremaining: 10.1s\n",
            "61:\tlearn: 0.1333295\ttotal: 1.15s\tremaining: 10s\n",
            "62:\tlearn: 0.1329264\ttotal: 1.17s\tremaining: 9.98s\n",
            "63:\tlearn: 0.1323848\ttotal: 1.19s\tremaining: 9.93s\n",
            "64:\tlearn: 0.1320049\ttotal: 1.2s\tremaining: 9.9s\n",
            "65:\tlearn: 0.1315876\ttotal: 1.22s\tremaining: 9.89s\n",
            "66:\tlearn: 0.1311793\ttotal: 1.24s\tremaining: 9.86s\n",
            "67:\tlearn: 0.1306465\ttotal: 1.26s\tremaining: 9.83s\n",
            "68:\tlearn: 0.1303149\ttotal: 1.27s\tremaining: 9.81s\n",
            "69:\tlearn: 0.1299252\ttotal: 1.29s\tremaining: 9.8s\n",
            "70:\tlearn: 0.1296926\ttotal: 1.31s\tremaining: 9.79s\n",
            "71:\tlearn: 0.1294895\ttotal: 1.33s\tremaining: 9.77s\n",
            "72:\tlearn: 0.1291331\ttotal: 1.35s\tremaining: 9.74s\n",
            "73:\tlearn: 0.1288386\ttotal: 1.36s\tremaining: 9.7s\n",
            "74:\tlearn: 0.1283326\ttotal: 1.38s\tremaining: 9.67s\n",
            "75:\tlearn: 0.1281731\ttotal: 1.4s\tremaining: 9.65s\n",
            "76:\tlearn: 0.1279316\ttotal: 1.42s\tremaining: 9.62s\n",
            "77:\tlearn: 0.1277774\ttotal: 1.43s\tremaining: 9.6s\n",
            "78:\tlearn: 0.1272782\ttotal: 1.45s\tremaining: 9.58s\n",
            "79:\tlearn: 0.1269998\ttotal: 1.48s\tremaining: 9.6s\n",
            "80:\tlearn: 0.1268822\ttotal: 1.5s\tremaining: 9.6s\n",
            "81:\tlearn: 0.1264958\ttotal: 1.51s\tremaining: 9.57s\n",
            "82:\tlearn: 0.1262049\ttotal: 1.53s\tremaining: 9.55s\n",
            "83:\tlearn: 0.1258291\ttotal: 1.55s\tremaining: 9.53s\n",
            "84:\tlearn: 0.1255638\ttotal: 1.57s\tremaining: 9.51s\n",
            "85:\tlearn: 0.1252145\ttotal: 1.59s\tremaining: 9.48s\n",
            "86:\tlearn: 0.1248667\ttotal: 1.6s\tremaining: 9.46s\n",
            "87:\tlearn: 0.1246860\ttotal: 1.62s\tremaining: 9.43s\n",
            "88:\tlearn: 0.1244022\ttotal: 1.64s\tremaining: 9.44s\n",
            "89:\tlearn: 0.1241075\ttotal: 1.66s\tremaining: 9.41s\n",
            "90:\tlearn: 0.1238852\ttotal: 1.68s\tremaining: 9.38s\n",
            "91:\tlearn: 0.1236909\ttotal: 1.7s\tremaining: 9.38s\n",
            "92:\tlearn: 0.1231497\ttotal: 1.72s\tremaining: 9.36s\n",
            "93:\tlearn: 0.1228070\ttotal: 1.73s\tremaining: 9.33s\n",
            "94:\tlearn: 0.1226011\ttotal: 1.75s\tremaining: 9.31s\n",
            "95:\tlearn: 0.1222584\ttotal: 1.77s\tremaining: 9.28s\n",
            "96:\tlearn: 0.1220018\ttotal: 1.78s\tremaining: 9.25s\n",
            "97:\tlearn: 0.1217057\ttotal: 1.8s\tremaining: 9.22s\n",
            "98:\tlearn: 0.1213713\ttotal: 1.81s\tremaining: 9.19s\n",
            "99:\tlearn: 0.1212274\ttotal: 1.83s\tremaining: 9.16s\n",
            "100:\tlearn: 0.1209068\ttotal: 1.85s\tremaining: 9.15s\n",
            "101:\tlearn: 0.1205533\ttotal: 1.87s\tremaining: 9.13s\n",
            "102:\tlearn: 0.1204477\ttotal: 1.89s\tremaining: 9.11s\n",
            "103:\tlearn: 0.1201067\ttotal: 1.91s\tremaining: 9.09s\n",
            "104:\tlearn: 0.1198580\ttotal: 1.92s\tremaining: 9.07s\n",
            "105:\tlearn: 0.1195778\ttotal: 1.94s\tremaining: 9.04s\n",
            "106:\tlearn: 0.1193791\ttotal: 1.96s\tremaining: 9.02s\n",
            "107:\tlearn: 0.1192861\ttotal: 1.97s\tremaining: 8.99s\n",
            "108:\tlearn: 0.1190387\ttotal: 1.99s\tremaining: 8.97s\n",
            "109:\tlearn: 0.1189518\ttotal: 2.01s\tremaining: 8.95s\n",
            "110:\tlearn: 0.1185476\ttotal: 2.02s\tremaining: 8.92s\n",
            "111:\tlearn: 0.1179643\ttotal: 2.04s\tremaining: 8.9s\n",
            "112:\tlearn: 0.1176510\ttotal: 2.06s\tremaining: 8.88s\n",
            "113:\tlearn: 0.1175153\ttotal: 2.08s\tremaining: 8.87s\n",
            "114:\tlearn: 0.1174337\ttotal: 2.1s\tremaining: 8.87s\n",
            "115:\tlearn: 0.1172693\ttotal: 2.12s\tremaining: 8.84s\n",
            "116:\tlearn: 0.1168959\ttotal: 2.13s\tremaining: 8.81s\n",
            "117:\tlearn: 0.1167748\ttotal: 2.15s\tremaining: 8.79s\n",
            "118:\tlearn: 0.1165679\ttotal: 2.17s\tremaining: 8.77s\n",
            "119:\tlearn: 0.1163206\ttotal: 2.19s\tremaining: 8.75s\n",
            "120:\tlearn: 0.1160526\ttotal: 2.2s\tremaining: 8.73s\n",
            "121:\tlearn: 0.1159296\ttotal: 2.22s\tremaining: 8.71s\n",
            "122:\tlearn: 0.1158441\ttotal: 2.24s\tremaining: 8.69s\n",
            "123:\tlearn: 0.1154548\ttotal: 2.26s\tremaining: 8.66s\n",
            "124:\tlearn: 0.1151531\ttotal: 2.28s\tremaining: 8.66s\n",
            "125:\tlearn: 0.1151036\ttotal: 2.3s\tremaining: 8.66s\n",
            "126:\tlearn: 0.1150296\ttotal: 2.32s\tremaining: 8.64s\n",
            "127:\tlearn: 0.1149116\ttotal: 2.34s\tremaining: 8.63s\n",
            "128:\tlearn: 0.1147732\ttotal: 2.36s\tremaining: 8.61s\n",
            "129:\tlearn: 0.1145984\ttotal: 2.38s\tremaining: 8.6s\n",
            "130:\tlearn: 0.1145080\ttotal: 2.39s\tremaining: 8.57s\n",
            "131:\tlearn: 0.1144328\ttotal: 2.41s\tremaining: 8.55s\n",
            "132:\tlearn: 0.1143402\ttotal: 2.44s\tremaining: 8.55s\n",
            "133:\tlearn: 0.1140345\ttotal: 2.45s\tremaining: 8.54s\n",
            "134:\tlearn: 0.1136553\ttotal: 2.48s\tremaining: 8.53s\n",
            "135:\tlearn: 0.1135972\ttotal: 2.5s\tremaining: 8.52s\n",
            "136:\tlearn: 0.1132644\ttotal: 2.52s\tremaining: 8.5s\n",
            "137:\tlearn: 0.1132056\ttotal: 2.53s\tremaining: 8.48s\n",
            "138:\tlearn: 0.1131543\ttotal: 2.55s\tremaining: 8.46s\n",
            "139:\tlearn: 0.1130880\ttotal: 2.57s\tremaining: 8.43s\n",
            "140:\tlearn: 0.1129444\ttotal: 2.58s\tremaining: 8.41s\n",
            "141:\tlearn: 0.1127084\ttotal: 2.6s\tremaining: 8.4s\n",
            "142:\tlearn: 0.1126055\ttotal: 2.62s\tremaining: 8.38s\n",
            "143:\tlearn: 0.1125617\ttotal: 2.64s\tremaining: 8.36s\n",
            "144:\tlearn: 0.1125342\ttotal: 2.66s\tremaining: 8.36s\n",
            "145:\tlearn: 0.1122608\ttotal: 2.68s\tremaining: 8.34s\n",
            "146:\tlearn: 0.1122286\ttotal: 2.7s\tremaining: 8.32s\n",
            "147:\tlearn: 0.1122076\ttotal: 2.71s\tremaining: 8.29s\n",
            "148:\tlearn: 0.1119231\ttotal: 2.73s\tremaining: 8.27s\n",
            "149:\tlearn: 0.1118852\ttotal: 2.75s\tremaining: 8.25s\n",
            "150:\tlearn: 0.1114905\ttotal: 2.77s\tremaining: 8.23s\n",
            "151:\tlearn: 0.1114138\ttotal: 2.78s\tremaining: 8.2s\n",
            "152:\tlearn: 0.1113798\ttotal: 2.8s\tremaining: 8.18s\n",
            "153:\tlearn: 0.1113475\ttotal: 2.82s\tremaining: 8.16s\n",
            "154:\tlearn: 0.1111579\ttotal: 2.84s\tremaining: 8.15s\n",
            "155:\tlearn: 0.1108611\ttotal: 2.86s\tremaining: 8.13s\n",
            "156:\tlearn: 0.1108494\ttotal: 2.87s\tremaining: 8.11s\n",
            "157:\tlearn: 0.1108275\ttotal: 2.89s\tremaining: 8.09s\n",
            "158:\tlearn: 0.1105874\ttotal: 2.91s\tremaining: 8.07s\n",
            "159:\tlearn: 0.1103187\ttotal: 2.93s\tremaining: 8.05s\n",
            "160:\tlearn: 0.1101438\ttotal: 2.94s\tremaining: 8.03s\n",
            "161:\tlearn: 0.1100633\ttotal: 2.96s\tremaining: 8.01s\n",
            "162:\tlearn: 0.1099032\ttotal: 2.98s\tremaining: 7.98s\n",
            "163:\tlearn: 0.1098582\ttotal: 2.99s\tremaining: 7.96s\n",
            "164:\tlearn: 0.1096002\ttotal: 3.01s\tremaining: 7.94s\n",
            "165:\tlearn: 0.1093249\ttotal: 3.03s\tremaining: 7.92s\n",
            "166:\tlearn: 0.1093033\ttotal: 3.04s\tremaining: 7.89s\n",
            "167:\tlearn: 0.1091575\ttotal: 3.06s\tremaining: 7.87s\n",
            "168:\tlearn: 0.1090780\ttotal: 3.08s\tremaining: 7.85s\n",
            "169:\tlearn: 0.1090090\ttotal: 3.1s\tremaining: 7.85s\n",
            "170:\tlearn: 0.1090021\ttotal: 3.12s\tremaining: 7.83s\n",
            "171:\tlearn: 0.1089958\ttotal: 3.14s\tremaining: 7.8s\n",
            "172:\tlearn: 0.1086916\ttotal: 3.15s\tremaining: 7.78s\n",
            "173:\tlearn: 0.1086277\ttotal: 3.17s\tremaining: 7.76s\n",
            "174:\tlearn: 0.1085692\ttotal: 3.19s\tremaining: 7.74s\n",
            "175:\tlearn: 0.1083201\ttotal: 3.2s\tremaining: 7.72s\n",
            "176:\tlearn: 0.1082978\ttotal: 3.22s\tremaining: 7.7s\n",
            "177:\tlearn: 0.1082011\ttotal: 3.24s\tremaining: 7.67s\n",
            "178:\tlearn: 0.1080508\ttotal: 3.25s\tremaining: 7.65s\n",
            "179:\tlearn: 0.1077523\ttotal: 3.27s\tremaining: 7.63s\n",
            "180:\tlearn: 0.1075398\ttotal: 3.3s\tremaining: 7.65s\n",
            "181:\tlearn: 0.1075194\ttotal: 3.32s\tremaining: 7.62s\n",
            "182:\tlearn: 0.1072280\ttotal: 3.34s\tremaining: 7.6s\n",
            "183:\tlearn: 0.1071020\ttotal: 3.35s\tremaining: 7.58s\n",
            "184:\tlearn: 0.1070524\ttotal: 3.37s\tremaining: 7.56s\n",
            "185:\tlearn: 0.1068833\ttotal: 3.39s\tremaining: 7.54s\n",
            "186:\tlearn: 0.1066775\ttotal: 3.4s\tremaining: 7.52s\n",
            "187:\tlearn: 0.1064712\ttotal: 3.42s\tremaining: 7.5s\n",
            "188:\tlearn: 0.1062906\ttotal: 3.44s\tremaining: 7.48s\n",
            "189:\tlearn: 0.1062849\ttotal: 3.46s\tremaining: 7.46s\n",
            "190:\tlearn: 0.1062549\ttotal: 3.48s\tremaining: 7.44s\n",
            "191:\tlearn: 0.1061329\ttotal: 3.5s\tremaining: 7.43s\n",
            "192:\tlearn: 0.1060074\ttotal: 3.52s\tremaining: 7.41s\n",
            "193:\tlearn: 0.1058472\ttotal: 3.53s\tremaining: 7.39s\n",
            "194:\tlearn: 0.1057955\ttotal: 3.55s\tremaining: 7.37s\n",
            "195:\tlearn: 0.1057774\ttotal: 3.57s\tremaining: 7.35s\n",
            "196:\tlearn: 0.1057290\ttotal: 3.58s\tremaining: 7.33s\n",
            "197:\tlearn: 0.1055778\ttotal: 3.6s\tremaining: 7.31s\n",
            "198:\tlearn: 0.1054352\ttotal: 3.62s\tremaining: 7.29s\n",
            "199:\tlearn: 0.1052916\ttotal: 3.63s\tremaining: 7.26s\n",
            "200:\tlearn: 0.1051077\ttotal: 3.65s\tremaining: 7.24s\n",
            "201:\tlearn: 0.1049527\ttotal: 3.66s\tremaining: 7.22s\n",
            "202:\tlearn: 0.1048536\ttotal: 3.69s\tremaining: 7.21s\n",
            "203:\tlearn: 0.1047324\ttotal: 3.71s\tremaining: 7.19s\n",
            "204:\tlearn: 0.1045971\ttotal: 3.72s\tremaining: 7.17s\n",
            "205:\tlearn: 0.1045783\ttotal: 3.74s\tremaining: 7.15s\n",
            "206:\tlearn: 0.1044971\ttotal: 3.76s\tremaining: 7.13s\n",
            "207:\tlearn: 0.1043786\ttotal: 3.77s\tremaining: 7.11s\n",
            "208:\tlearn: 0.1042603\ttotal: 3.79s\tremaining: 7.1s\n",
            "209:\tlearn: 0.1040328\ttotal: 3.81s\tremaining: 7.08s\n",
            "210:\tlearn: 0.1038625\ttotal: 3.83s\tremaining: 7.05s\n",
            "211:\tlearn: 0.1037687\ttotal: 3.84s\tremaining: 7.03s\n",
            "212:\tlearn: 0.1036490\ttotal: 3.86s\tremaining: 7.01s\n",
            "213:\tlearn: 0.1034925\ttotal: 3.88s\tremaining: 6.99s\n",
            "214:\tlearn: 0.1033833\ttotal: 3.9s\tremaining: 6.98s\n",
            "215:\tlearn: 0.1032827\ttotal: 3.91s\tremaining: 6.96s\n",
            "216:\tlearn: 0.1030929\ttotal: 3.93s\tremaining: 6.94s\n",
            "217:\tlearn: 0.1029648\ttotal: 3.95s\tremaining: 6.92s\n",
            "218:\tlearn: 0.1028402\ttotal: 3.97s\tremaining: 6.9s\n",
            "219:\tlearn: 0.1026862\ttotal: 3.98s\tremaining: 6.88s\n",
            "220:\tlearn: 0.1025889\ttotal: 4.01s\tremaining: 6.87s\n",
            "221:\tlearn: 0.1024581\ttotal: 4.03s\tremaining: 6.86s\n",
            "222:\tlearn: 0.1022912\ttotal: 4.05s\tremaining: 6.84s\n",
            "223:\tlearn: 0.1021190\ttotal: 4.08s\tremaining: 6.84s\n",
            "224:\tlearn: 0.1021042\ttotal: 4.1s\tremaining: 6.83s\n",
            "225:\tlearn: 0.1019720\ttotal: 4.11s\tremaining: 6.81s\n",
            "226:\tlearn: 0.1018975\ttotal: 4.13s\tremaining: 6.79s\n",
            "227:\tlearn: 0.1017741\ttotal: 4.14s\tremaining: 6.76s\n",
            "228:\tlearn: 0.1016888\ttotal: 4.16s\tremaining: 6.74s\n",
            "229:\tlearn: 0.1016220\ttotal: 4.18s\tremaining: 6.72s\n",
            "230:\tlearn: 0.1015829\ttotal: 4.2s\tremaining: 6.7s\n",
            "231:\tlearn: 0.1015145\ttotal: 4.21s\tremaining: 6.68s\n",
            "232:\tlearn: 0.1013711\ttotal: 4.23s\tremaining: 6.66s\n",
            "233:\tlearn: 0.1012535\ttotal: 4.25s\tremaining: 6.64s\n",
            "234:\tlearn: 0.1011976\ttotal: 4.27s\tremaining: 6.63s\n",
            "235:\tlearn: 0.1011308\ttotal: 4.29s\tremaining: 6.61s\n",
            "236:\tlearn: 0.1010207\ttotal: 4.31s\tremaining: 6.6s\n",
            "237:\tlearn: 0.1008600\ttotal: 4.33s\tremaining: 6.58s\n",
            "238:\tlearn: 0.1007034\ttotal: 4.34s\tremaining: 6.56s\n",
            "239:\tlearn: 0.1005877\ttotal: 4.36s\tremaining: 6.54s\n",
            "240:\tlearn: 0.1005814\ttotal: 4.38s\tremaining: 6.52s\n",
            "241:\tlearn: 0.1005239\ttotal: 4.39s\tremaining: 6.5s\n",
            "242:\tlearn: 0.1003857\ttotal: 4.41s\tremaining: 6.48s\n",
            "243:\tlearn: 0.1002958\ttotal: 4.43s\tremaining: 6.46s\n",
            "244:\tlearn: 0.1002792\ttotal: 4.45s\tremaining: 6.45s\n",
            "245:\tlearn: 0.1001545\ttotal: 4.47s\tremaining: 6.43s\n",
            "246:\tlearn: 0.1000987\ttotal: 4.49s\tremaining: 6.42s\n",
            "247:\tlearn: 0.1000616\ttotal: 4.51s\tremaining: 6.4s\n",
            "248:\tlearn: 0.1000121\ttotal: 4.53s\tremaining: 6.38s\n",
            "249:\tlearn: 0.0998512\ttotal: 4.54s\tremaining: 6.36s\n",
            "250:\tlearn: 0.0997768\ttotal: 4.56s\tremaining: 6.33s\n",
            "251:\tlearn: 0.0997436\ttotal: 4.57s\tremaining: 6.31s\n",
            "252:\tlearn: 0.0996172\ttotal: 4.59s\tremaining: 6.29s\n",
            "253:\tlearn: 0.0994167\ttotal: 4.61s\tremaining: 6.28s\n",
            "254:\tlearn: 0.0993292\ttotal: 4.63s\tremaining: 6.26s\n",
            "255:\tlearn: 0.0992267\ttotal: 4.64s\tremaining: 6.24s\n",
            "256:\tlearn: 0.0992241\ttotal: 4.66s\tremaining: 6.21s\n",
            "257:\tlearn: 0.0991633\ttotal: 4.67s\tremaining: 6.2s\n",
            "258:\tlearn: 0.0990545\ttotal: 4.69s\tremaining: 6.18s\n",
            "259:\tlearn: 0.0990188\ttotal: 4.72s\tremaining: 6.17s\n",
            "260:\tlearn: 0.0989716\ttotal: 4.74s\tremaining: 6.15s\n",
            "261:\tlearn: 0.0988373\ttotal: 4.76s\tremaining: 6.14s\n",
            "262:\tlearn: 0.0987883\ttotal: 4.78s\tremaining: 6.12s\n",
            "263:\tlearn: 0.0987134\ttotal: 4.79s\tremaining: 6.1s\n",
            "264:\tlearn: 0.0985839\ttotal: 4.81s\tremaining: 6.08s\n",
            "265:\tlearn: 0.0985075\ttotal: 4.83s\tremaining: 6.07s\n",
            "266:\tlearn: 0.0983982\ttotal: 4.85s\tremaining: 6.05s\n",
            "267:\tlearn: 0.0983374\ttotal: 4.87s\tremaining: 6.04s\n",
            "268:\tlearn: 0.0982974\ttotal: 4.89s\tremaining: 6.02s\n",
            "269:\tlearn: 0.0982952\ttotal: 4.91s\tremaining: 6s\n",
            "270:\tlearn: 0.0982131\ttotal: 4.92s\tremaining: 5.98s\n",
            "271:\tlearn: 0.0982039\ttotal: 4.94s\tremaining: 5.96s\n",
            "272:\tlearn: 0.0981707\ttotal: 4.96s\tremaining: 5.94s\n",
            "273:\tlearn: 0.0980691\ttotal: 4.97s\tremaining: 5.92s\n",
            "274:\tlearn: 0.0979691\ttotal: 4.99s\tremaining: 5.9s\n",
            "275:\tlearn: 0.0979040\ttotal: 5.01s\tremaining: 5.88s\n",
            "276:\tlearn: 0.0977531\ttotal: 5.02s\tremaining: 5.86s\n",
            "277:\tlearn: 0.0976147\ttotal: 5.05s\tremaining: 5.84s\n",
            "278:\tlearn: 0.0975168\ttotal: 5.07s\tremaining: 5.83s\n",
            "279:\tlearn: 0.0974492\ttotal: 5.08s\tremaining: 5.81s\n",
            "280:\tlearn: 0.0974147\ttotal: 5.1s\tremaining: 5.79s\n",
            "281:\tlearn: 0.0973019\ttotal: 5.12s\tremaining: 5.77s\n",
            "282:\tlearn: 0.0972390\ttotal: 5.14s\tremaining: 5.75s\n",
            "283:\tlearn: 0.0971321\ttotal: 5.16s\tremaining: 5.74s\n",
            "284:\tlearn: 0.0971020\ttotal: 5.18s\tremaining: 5.72s\n",
            "285:\tlearn: 0.0969336\ttotal: 5.2s\tremaining: 5.7s\n",
            "286:\tlearn: 0.0969319\ttotal: 5.21s\tremaining: 5.68s\n",
            "287:\tlearn: 0.0968559\ttotal: 5.23s\tremaining: 5.67s\n",
            "288:\tlearn: 0.0966779\ttotal: 5.25s\tremaining: 5.65s\n",
            "289:\tlearn: 0.0966257\ttotal: 5.28s\tremaining: 5.64s\n",
            "290:\tlearn: 0.0965844\ttotal: 5.3s\tremaining: 5.63s\n",
            "291:\tlearn: 0.0964620\ttotal: 5.32s\tremaining: 5.61s\n",
            "292:\tlearn: 0.0964545\ttotal: 5.33s\tremaining: 5.59s\n",
            "293:\tlearn: 0.0964522\ttotal: 5.35s\tremaining: 5.57s\n",
            "294:\tlearn: 0.0963210\ttotal: 5.37s\tremaining: 5.55s\n",
            "295:\tlearn: 0.0963192\ttotal: 5.39s\tremaining: 5.53s\n",
            "296:\tlearn: 0.0962682\ttotal: 5.4s\tremaining: 5.51s\n",
            "297:\tlearn: 0.0961855\ttotal: 5.42s\tremaining: 5.5s\n",
            "298:\tlearn: 0.0961648\ttotal: 5.45s\tremaining: 5.49s\n",
            "299:\tlearn: 0.0960155\ttotal: 5.47s\tremaining: 5.47s\n",
            "300:\tlearn: 0.0960131\ttotal: 5.49s\tremaining: 5.45s\n",
            "301:\tlearn: 0.0959476\ttotal: 5.5s\tremaining: 5.43s\n",
            "302:\tlearn: 0.0958873\ttotal: 5.52s\tremaining: 5.41s\n",
            "303:\tlearn: 0.0957428\ttotal: 5.54s\tremaining: 5.4s\n",
            "304:\tlearn: 0.0956625\ttotal: 5.56s\tremaining: 5.38s\n",
            "305:\tlearn: 0.0955750\ttotal: 5.58s\tremaining: 5.36s\n",
            "306:\tlearn: 0.0955119\ttotal: 5.59s\tremaining: 5.34s\n",
            "307:\tlearn: 0.0954881\ttotal: 5.61s\tremaining: 5.32s\n",
            "308:\tlearn: 0.0953897\ttotal: 5.63s\tremaining: 5.3s\n",
            "309:\tlearn: 0.0953671\ttotal: 5.65s\tremaining: 5.28s\n",
            "310:\tlearn: 0.0952947\ttotal: 5.67s\tremaining: 5.26s\n",
            "311:\tlearn: 0.0952301\ttotal: 5.69s\tremaining: 5.25s\n",
            "312:\tlearn: 0.0950584\ttotal: 5.71s\tremaining: 5.23s\n",
            "313:\tlearn: 0.0950205\ttotal: 5.73s\tremaining: 5.22s\n",
            "314:\tlearn: 0.0949244\ttotal: 5.75s\tremaining: 5.2s\n",
            "315:\tlearn: 0.0948507\ttotal: 5.76s\tremaining: 5.18s\n",
            "316:\tlearn: 0.0948493\ttotal: 5.78s\tremaining: 5.16s\n",
            "317:\tlearn: 0.0948187\ttotal: 5.8s\tremaining: 5.14s\n",
            "318:\tlearn: 0.0946710\ttotal: 5.82s\tremaining: 5.12s\n",
            "319:\tlearn: 0.0946691\ttotal: 5.83s\tremaining: 5.1s\n",
            "320:\tlearn: 0.0946257\ttotal: 5.85s\tremaining: 5.08s\n",
            "321:\tlearn: 0.0945482\ttotal: 5.87s\tremaining: 5.06s\n",
            "322:\tlearn: 0.0945087\ttotal: 5.89s\tremaining: 5.05s\n",
            "323:\tlearn: 0.0944443\ttotal: 5.91s\tremaining: 5.03s\n",
            "324:\tlearn: 0.0943034\ttotal: 5.92s\tremaining: 5.01s\n",
            "325:\tlearn: 0.0942092\ttotal: 5.94s\tremaining: 4.99s\n",
            "326:\tlearn: 0.0941000\ttotal: 5.96s\tremaining: 4.97s\n",
            "327:\tlearn: 0.0940396\ttotal: 5.98s\tremaining: 4.96s\n",
            "328:\tlearn: 0.0939742\ttotal: 5.99s\tremaining: 4.94s\n",
            "329:\tlearn: 0.0939635\ttotal: 6.01s\tremaining: 4.92s\n",
            "330:\tlearn: 0.0939081\ttotal: 6.03s\tremaining: 4.9s\n",
            "331:\tlearn: 0.0938377\ttotal: 6.05s\tremaining: 4.88s\n",
            "332:\tlearn: 0.0937986\ttotal: 6.07s\tremaining: 4.86s\n",
            "333:\tlearn: 0.0937755\ttotal: 6.09s\tremaining: 4.85s\n",
            "334:\tlearn: 0.0937546\ttotal: 6.11s\tremaining: 4.83s\n",
            "335:\tlearn: 0.0936972\ttotal: 6.12s\tremaining: 4.81s\n",
            "336:\tlearn: 0.0935353\ttotal: 6.14s\tremaining: 4.79s\n",
            "337:\tlearn: 0.0934638\ttotal: 6.16s\tremaining: 4.77s\n",
            "338:\tlearn: 0.0933653\ttotal: 6.17s\tremaining: 4.75s\n",
            "339:\tlearn: 0.0933129\ttotal: 6.19s\tremaining: 4.74s\n",
            "340:\tlearn: 0.0931858\ttotal: 6.21s\tremaining: 4.71s\n",
            "341:\tlearn: 0.0930764\ttotal: 6.24s\tremaining: 4.7s\n",
            "342:\tlearn: 0.0930443\ttotal: 6.25s\tremaining: 4.69s\n",
            "343:\tlearn: 0.0929020\ttotal: 6.28s\tremaining: 4.67s\n",
            "344:\tlearn: 0.0928894\ttotal: 6.3s\tremaining: 4.65s\n",
            "345:\tlearn: 0.0928643\ttotal: 6.31s\tremaining: 4.63s\n",
            "346:\tlearn: 0.0928612\ttotal: 6.34s\tremaining: 4.62s\n",
            "347:\tlearn: 0.0927830\ttotal: 6.35s\tremaining: 4.6s\n",
            "348:\tlearn: 0.0927456\ttotal: 6.37s\tremaining: 4.58s\n",
            "349:\tlearn: 0.0927229\ttotal: 6.39s\tremaining: 4.56s\n",
            "350:\tlearn: 0.0926959\ttotal: 6.41s\tremaining: 4.55s\n",
            "351:\tlearn: 0.0925224\ttotal: 6.42s\tremaining: 4.53s\n",
            "352:\tlearn: 0.0925147\ttotal: 6.44s\tremaining: 4.51s\n",
            "353:\tlearn: 0.0924101\ttotal: 6.46s\tremaining: 4.49s\n",
            "354:\tlearn: 0.0923690\ttotal: 6.49s\tremaining: 4.48s\n",
            "355:\tlearn: 0.0923543\ttotal: 6.5s\tremaining: 4.46s\n",
            "356:\tlearn: 0.0923094\ttotal: 6.52s\tremaining: 4.44s\n",
            "357:\tlearn: 0.0922863\ttotal: 6.54s\tremaining: 4.42s\n",
            "358:\tlearn: 0.0921942\ttotal: 6.56s\tremaining: 4.4s\n",
            "359:\tlearn: 0.0919279\ttotal: 6.58s\tremaining: 4.38s\n",
            "360:\tlearn: 0.0919162\ttotal: 6.59s\tremaining: 4.37s\n",
            "361:\tlearn: 0.0918736\ttotal: 6.61s\tremaining: 4.35s\n",
            "362:\tlearn: 0.0918145\ttotal: 6.63s\tremaining: 4.33s\n",
            "363:\tlearn: 0.0917431\ttotal: 6.65s\tremaining: 4.31s\n",
            "364:\tlearn: 0.0917412\ttotal: 6.67s\tremaining: 4.29s\n",
            "365:\tlearn: 0.0916915\ttotal: 6.69s\tremaining: 4.28s\n",
            "366:\tlearn: 0.0916168\ttotal: 6.71s\tremaining: 4.26s\n",
            "367:\tlearn: 0.0915995\ttotal: 6.72s\tremaining: 4.24s\n",
            "368:\tlearn: 0.0915602\ttotal: 6.74s\tremaining: 4.22s\n",
            "369:\tlearn: 0.0913916\ttotal: 6.76s\tremaining: 4.2s\n",
            "370:\tlearn: 0.0913554\ttotal: 6.78s\tremaining: 4.18s\n",
            "371:\tlearn: 0.0913284\ttotal: 6.79s\tremaining: 4.16s\n",
            "372:\tlearn: 0.0912558\ttotal: 6.81s\tremaining: 4.14s\n",
            "373:\tlearn: 0.0911018\ttotal: 6.83s\tremaining: 4.13s\n",
            "374:\tlearn: 0.0910803\ttotal: 6.85s\tremaining: 4.11s\n",
            "375:\tlearn: 0.0910587\ttotal: 6.87s\tremaining: 4.09s\n",
            "376:\tlearn: 0.0910246\ttotal: 6.89s\tremaining: 4.08s\n",
            "377:\tlearn: 0.0910051\ttotal: 6.91s\tremaining: 4.06s\n",
            "378:\tlearn: 0.0909626\ttotal: 6.93s\tremaining: 4.04s\n",
            "379:\tlearn: 0.0908631\ttotal: 6.95s\tremaining: 4.02s\n",
            "380:\tlearn: 0.0908062\ttotal: 6.97s\tremaining: 4s\n",
            "381:\tlearn: 0.0907863\ttotal: 6.98s\tremaining: 3.98s\n",
            "382:\tlearn: 0.0907791\ttotal: 7s\tremaining: 3.96s\n",
            "383:\tlearn: 0.0907068\ttotal: 7.02s\tremaining: 3.95s\n",
            "384:\tlearn: 0.0906558\ttotal: 7.03s\tremaining: 3.93s\n",
            "385:\tlearn: 0.0906298\ttotal: 7.05s\tremaining: 3.91s\n",
            "386:\tlearn: 0.0905311\ttotal: 7.07s\tremaining: 3.89s\n",
            "387:\tlearn: 0.0905078\ttotal: 7.09s\tremaining: 3.88s\n",
            "388:\tlearn: 0.0904803\ttotal: 7.11s\tremaining: 3.86s\n",
            "389:\tlearn: 0.0904164\ttotal: 7.13s\tremaining: 3.84s\n",
            "390:\tlearn: 0.0902296\ttotal: 7.15s\tremaining: 3.82s\n",
            "391:\tlearn: 0.0902070\ttotal: 7.17s\tremaining: 3.8s\n",
            "392:\tlearn: 0.0901790\ttotal: 7.19s\tremaining: 3.79s\n",
            "393:\tlearn: 0.0901496\ttotal: 7.21s\tremaining: 3.77s\n",
            "394:\tlearn: 0.0899882\ttotal: 7.23s\tremaining: 3.75s\n",
            "395:\tlearn: 0.0899676\ttotal: 7.25s\tremaining: 3.73s\n",
            "396:\tlearn: 0.0899333\ttotal: 7.27s\tremaining: 3.72s\n",
            "397:\tlearn: 0.0898952\ttotal: 7.29s\tremaining: 3.7s\n",
            "398:\tlearn: 0.0898928\ttotal: 7.31s\tremaining: 3.68s\n",
            "399:\tlearn: 0.0898584\ttotal: 7.33s\tremaining: 3.66s\n",
            "400:\tlearn: 0.0897748\ttotal: 7.35s\tremaining: 3.65s\n",
            "401:\tlearn: 0.0897432\ttotal: 7.37s\tremaining: 3.63s\n",
            "402:\tlearn: 0.0897161\ttotal: 7.39s\tremaining: 3.61s\n",
            "403:\tlearn: 0.0896869\ttotal: 7.41s\tremaining: 3.59s\n",
            "404:\tlearn: 0.0896628\ttotal: 7.42s\tremaining: 3.57s\n",
            "405:\tlearn: 0.0896537\ttotal: 7.44s\tremaining: 3.56s\n",
            "406:\tlearn: 0.0895798\ttotal: 7.46s\tremaining: 3.54s\n",
            "407:\tlearn: 0.0894979\ttotal: 7.48s\tremaining: 3.52s\n",
            "408:\tlearn: 0.0894765\ttotal: 7.5s\tremaining: 3.5s\n",
            "409:\tlearn: 0.0894077\ttotal: 7.52s\tremaining: 3.48s\n",
            "410:\tlearn: 0.0893996\ttotal: 7.54s\tremaining: 3.46s\n",
            "411:\tlearn: 0.0893975\ttotal: 7.56s\tremaining: 3.45s\n",
            "412:\tlearn: 0.0893312\ttotal: 7.58s\tremaining: 3.43s\n",
            "413:\tlearn: 0.0893051\ttotal: 7.6s\tremaining: 3.41s\n",
            "414:\tlearn: 0.0892428\ttotal: 7.62s\tremaining: 3.4s\n",
            "415:\tlearn: 0.0892309\ttotal: 7.63s\tremaining: 3.38s\n",
            "416:\tlearn: 0.0892247\ttotal: 7.65s\tremaining: 3.36s\n",
            "417:\tlearn: 0.0891208\ttotal: 7.67s\tremaining: 3.34s\n",
            "418:\tlearn: 0.0891002\ttotal: 7.69s\tremaining: 3.32s\n",
            "419:\tlearn: 0.0890776\ttotal: 7.71s\tremaining: 3.3s\n",
            "420:\tlearn: 0.0889868\ttotal: 7.73s\tremaining: 3.29s\n",
            "421:\tlearn: 0.0889085\ttotal: 7.75s\tremaining: 3.27s\n",
            "422:\tlearn: 0.0888519\ttotal: 7.77s\tremaining: 3.25s\n",
            "423:\tlearn: 0.0888354\ttotal: 7.78s\tremaining: 3.23s\n",
            "424:\tlearn: 0.0887817\ttotal: 7.8s\tremaining: 3.21s\n",
            "425:\tlearn: 0.0887121\ttotal: 7.82s\tremaining: 3.19s\n",
            "426:\tlearn: 0.0886739\ttotal: 7.84s\tremaining: 3.18s\n",
            "427:\tlearn: 0.0886719\ttotal: 7.86s\tremaining: 3.16s\n",
            "428:\tlearn: 0.0885441\ttotal: 7.88s\tremaining: 3.14s\n",
            "429:\tlearn: 0.0885119\ttotal: 7.89s\tremaining: 3.12s\n",
            "430:\tlearn: 0.0884586\ttotal: 7.92s\tremaining: 3.1s\n",
            "431:\tlearn: 0.0884349\ttotal: 7.94s\tremaining: 3.09s\n",
            "432:\tlearn: 0.0883878\ttotal: 7.96s\tremaining: 3.07s\n",
            "433:\tlearn: 0.0882422\ttotal: 7.99s\tremaining: 3.05s\n",
            "434:\tlearn: 0.0881953\ttotal: 8s\tremaining: 3.04s\n",
            "435:\tlearn: 0.0881176\ttotal: 8.02s\tremaining: 3.02s\n",
            "436:\tlearn: 0.0880944\ttotal: 8.04s\tremaining: 3s\n",
            "437:\tlearn: 0.0880779\ttotal: 8.06s\tremaining: 2.98s\n",
            "438:\tlearn: 0.0880616\ttotal: 8.08s\tremaining: 2.96s\n",
            "439:\tlearn: 0.0880265\ttotal: 8.1s\tremaining: 2.94s\n",
            "440:\tlearn: 0.0880042\ttotal: 8.13s\tremaining: 2.93s\n",
            "441:\tlearn: 0.0879892\ttotal: 8.15s\tremaining: 2.91s\n",
            "442:\tlearn: 0.0879734\ttotal: 8.17s\tremaining: 2.89s\n",
            "443:\tlearn: 0.0879559\ttotal: 8.19s\tremaining: 2.88s\n",
            "444:\tlearn: 0.0878406\ttotal: 8.21s\tremaining: 2.86s\n",
            "445:\tlearn: 0.0878388\ttotal: 8.22s\tremaining: 2.84s\n",
            "446:\tlearn: 0.0877581\ttotal: 8.24s\tremaining: 2.82s\n",
            "447:\tlearn: 0.0877379\ttotal: 8.26s\tremaining: 2.8s\n",
            "448:\tlearn: 0.0875940\ttotal: 8.28s\tremaining: 2.78s\n",
            "449:\tlearn: 0.0875271\ttotal: 8.3s\tremaining: 2.77s\n",
            "450:\tlearn: 0.0875129\ttotal: 8.32s\tremaining: 2.75s\n",
            "451:\tlearn: 0.0874326\ttotal: 8.34s\tremaining: 2.73s\n",
            "452:\tlearn: 0.0873391\ttotal: 8.35s\tremaining: 2.71s\n",
            "453:\tlearn: 0.0873094\ttotal: 8.37s\tremaining: 2.69s\n",
            "454:\tlearn: 0.0872095\ttotal: 8.39s\tremaining: 2.67s\n",
            "455:\tlearn: 0.0871795\ttotal: 8.41s\tremaining: 2.65s\n",
            "456:\tlearn: 0.0871660\ttotal: 8.43s\tremaining: 2.64s\n",
            "457:\tlearn: 0.0871381\ttotal: 8.45s\tremaining: 2.62s\n",
            "458:\tlearn: 0.0870813\ttotal: 8.46s\tremaining: 2.6s\n",
            "459:\tlearn: 0.0870462\ttotal: 8.48s\tremaining: 2.58s\n",
            "460:\tlearn: 0.0869946\ttotal: 8.5s\tremaining: 2.56s\n",
            "461:\tlearn: 0.0869789\ttotal: 8.52s\tremaining: 2.55s\n",
            "462:\tlearn: 0.0869427\ttotal: 8.54s\tremaining: 2.53s\n",
            "463:\tlearn: 0.0868564\ttotal: 8.56s\tremaining: 2.51s\n",
            "464:\tlearn: 0.0868136\ttotal: 8.58s\tremaining: 2.49s\n",
            "465:\tlearn: 0.0867394\ttotal: 8.6s\tremaining: 2.47s\n",
            "466:\tlearn: 0.0867115\ttotal: 8.62s\tremaining: 2.46s\n",
            "467:\tlearn: 0.0866528\ttotal: 8.64s\tremaining: 2.44s\n",
            "468:\tlearn: 0.0865983\ttotal: 8.66s\tremaining: 2.42s\n",
            "469:\tlearn: 0.0865875\ttotal: 8.68s\tremaining: 2.4s\n",
            "470:\tlearn: 0.0864562\ttotal: 8.7s\tremaining: 2.38s\n",
            "471:\tlearn: 0.0864306\ttotal: 8.71s\tremaining: 2.36s\n",
            "472:\tlearn: 0.0863657\ttotal: 8.73s\tremaining: 2.35s\n",
            "473:\tlearn: 0.0863052\ttotal: 8.75s\tremaining: 2.33s\n",
            "474:\tlearn: 0.0862139\ttotal: 8.77s\tremaining: 2.31s\n",
            "475:\tlearn: 0.0861905\ttotal: 8.79s\tremaining: 2.29s\n",
            "476:\tlearn: 0.0861179\ttotal: 8.81s\tremaining: 2.27s\n",
            "477:\tlearn: 0.0861150\ttotal: 8.83s\tremaining: 2.25s\n",
            "478:\tlearn: 0.0861141\ttotal: 8.85s\tremaining: 2.23s\n",
            "479:\tlearn: 0.0860530\ttotal: 8.87s\tremaining: 2.22s\n",
            "480:\tlearn: 0.0860233\ttotal: 8.88s\tremaining: 2.2s\n",
            "481:\tlearn: 0.0859830\ttotal: 8.9s\tremaining: 2.18s\n",
            "482:\tlearn: 0.0859821\ttotal: 8.93s\tremaining: 2.16s\n",
            "483:\tlearn: 0.0859796\ttotal: 8.94s\tremaining: 2.14s\n",
            "484:\tlearn: 0.0859645\ttotal: 8.96s\tremaining: 2.12s\n",
            "485:\tlearn: 0.0859446\ttotal: 8.98s\tremaining: 2.1s\n",
            "486:\tlearn: 0.0859202\ttotal: 9s\tremaining: 2.09s\n",
            "487:\tlearn: 0.0858947\ttotal: 9.02s\tremaining: 2.07s\n",
            "488:\tlearn: 0.0858834\ttotal: 9.04s\tremaining: 2.05s\n",
            "489:\tlearn: 0.0858454\ttotal: 9.05s\tremaining: 2.03s\n",
            "490:\tlearn: 0.0857734\ttotal: 9.07s\tremaining: 2.01s\n",
            "491:\tlearn: 0.0856405\ttotal: 9.09s\tremaining: 2s\n",
            "492:\tlearn: 0.0856241\ttotal: 9.12s\tremaining: 1.98s\n",
            "493:\tlearn: 0.0856239\ttotal: 9.14s\tremaining: 1.96s\n",
            "494:\tlearn: 0.0855834\ttotal: 9.16s\tremaining: 1.94s\n",
            "495:\tlearn: 0.0855287\ttotal: 9.18s\tremaining: 1.92s\n",
            "496:\tlearn: 0.0855273\ttotal: 9.2s\tremaining: 1.91s\n",
            "497:\tlearn: 0.0855140\ttotal: 9.22s\tremaining: 1.89s\n",
            "498:\tlearn: 0.0855067\ttotal: 9.23s\tremaining: 1.87s\n",
            "499:\tlearn: 0.0854969\ttotal: 9.25s\tremaining: 1.85s\n",
            "500:\tlearn: 0.0854805\ttotal: 9.27s\tremaining: 1.83s\n",
            "501:\tlearn: 0.0853637\ttotal: 9.29s\tremaining: 1.81s\n",
            "502:\tlearn: 0.0853013\ttotal: 9.3s\tremaining: 1.79s\n",
            "503:\tlearn: 0.0852781\ttotal: 9.32s\tremaining: 1.77s\n",
            "504:\tlearn: 0.0852315\ttotal: 9.34s\tremaining: 1.76s\n",
            "505:\tlearn: 0.0852106\ttotal: 9.36s\tremaining: 1.74s\n",
            "506:\tlearn: 0.0851715\ttotal: 9.37s\tremaining: 1.72s\n",
            "507:\tlearn: 0.0851528\ttotal: 9.39s\tremaining: 1.7s\n",
            "508:\tlearn: 0.0851188\ttotal: 9.41s\tremaining: 1.68s\n",
            "509:\tlearn: 0.0849380\ttotal: 9.43s\tremaining: 1.66s\n",
            "510:\tlearn: 0.0849248\ttotal: 9.45s\tremaining: 1.65s\n",
            "511:\tlearn: 0.0849239\ttotal: 9.46s\tremaining: 1.63s\n",
            "512:\tlearn: 0.0848597\ttotal: 9.48s\tremaining: 1.61s\n",
            "513:\tlearn: 0.0848520\ttotal: 9.5s\tremaining: 1.59s\n",
            "514:\tlearn: 0.0847697\ttotal: 9.52s\tremaining: 1.57s\n",
            "515:\tlearn: 0.0846710\ttotal: 9.54s\tremaining: 1.55s\n",
            "516:\tlearn: 0.0846349\ttotal: 9.55s\tremaining: 1.53s\n",
            "517:\tlearn: 0.0845662\ttotal: 9.58s\tremaining: 1.52s\n",
            "518:\tlearn: 0.0845224\ttotal: 9.6s\tremaining: 1.5s\n",
            "519:\tlearn: 0.0845101\ttotal: 9.61s\tremaining: 1.48s\n",
            "520:\tlearn: 0.0845095\ttotal: 9.63s\tremaining: 1.46s\n",
            "521:\tlearn: 0.0844865\ttotal: 9.65s\tremaining: 1.44s\n",
            "522:\tlearn: 0.0844550\ttotal: 9.67s\tremaining: 1.42s\n",
            "523:\tlearn: 0.0844247\ttotal: 9.69s\tremaining: 1.4s\n",
            "524:\tlearn: 0.0844221\ttotal: 9.7s\tremaining: 1.39s\n",
            "525:\tlearn: 0.0844143\ttotal: 9.73s\tremaining: 1.37s\n",
            "526:\tlearn: 0.0843853\ttotal: 9.74s\tremaining: 1.35s\n",
            "527:\tlearn: 0.0843685\ttotal: 9.77s\tremaining: 1.33s\n",
            "528:\tlearn: 0.0843361\ttotal: 9.78s\tremaining: 1.31s\n",
            "529:\tlearn: 0.0842830\ttotal: 9.8s\tremaining: 1.29s\n",
            "530:\tlearn: 0.0842429\ttotal: 9.82s\tremaining: 1.27s\n",
            "531:\tlearn: 0.0842104\ttotal: 9.84s\tremaining: 1.26s\n",
            "532:\tlearn: 0.0841929\ttotal: 9.85s\tremaining: 1.24s\n",
            "533:\tlearn: 0.0841321\ttotal: 9.88s\tremaining: 1.22s\n",
            "534:\tlearn: 0.0840995\ttotal: 9.89s\tremaining: 1.2s\n",
            "535:\tlearn: 0.0840821\ttotal: 9.91s\tremaining: 1.18s\n",
            "536:\tlearn: 0.0840745\ttotal: 9.93s\tremaining: 1.17s\n",
            "537:\tlearn: 0.0840454\ttotal: 9.95s\tremaining: 1.15s\n",
            "538:\tlearn: 0.0839913\ttotal: 9.97s\tremaining: 1.13s\n",
            "539:\tlearn: 0.0839774\ttotal: 9.99s\tremaining: 1.11s\n",
            "540:\tlearn: 0.0838787\ttotal: 10s\tremaining: 1.09s\n",
            "541:\tlearn: 0.0838634\ttotal: 10s\tremaining: 1.07s\n",
            "542:\tlearn: 0.0837624\ttotal: 10s\tremaining: 1.05s\n",
            "543:\tlearn: 0.0837096\ttotal: 10.1s\tremaining: 1.04s\n",
            "544:\tlearn: 0.0836327\ttotal: 10.1s\tremaining: 1.02s\n",
            "545:\tlearn: 0.0835447\ttotal: 10.1s\tremaining: 1000ms\n",
            "546:\tlearn: 0.0835394\ttotal: 10.1s\tremaining: 981ms\n",
            "547:\tlearn: 0.0835380\ttotal: 10.2s\tremaining: 963ms\n",
            "548:\tlearn: 0.0835172\ttotal: 10.2s\tremaining: 945ms\n",
            "549:\tlearn: 0.0834167\ttotal: 10.2s\tremaining: 926ms\n",
            "550:\tlearn: 0.0833982\ttotal: 10.2s\tremaining: 907ms\n",
            "551:\tlearn: 0.0833870\ttotal: 10.2s\tremaining: 889ms\n",
            "552:\tlearn: 0.0833812\ttotal: 10.2s\tremaining: 870ms\n",
            "553:\tlearn: 0.0833451\ttotal: 10.3s\tremaining: 851ms\n",
            "554:\tlearn: 0.0833410\ttotal: 10.3s\tremaining: 833ms\n",
            "555:\tlearn: 0.0832964\ttotal: 10.3s\tremaining: 814ms\n",
            "556:\tlearn: 0.0832888\ttotal: 10.3s\tremaining: 795ms\n",
            "557:\tlearn: 0.0832222\ttotal: 10.3s\tremaining: 776ms\n",
            "558:\tlearn: 0.0832087\ttotal: 10.3s\tremaining: 759ms\n",
            "559:\tlearn: 0.0831325\ttotal: 10.4s\tremaining: 740ms\n",
            "560:\tlearn: 0.0831164\ttotal: 10.4s\tremaining: 722ms\n",
            "561:\tlearn: 0.0830368\ttotal: 10.4s\tremaining: 703ms\n",
            "562:\tlearn: 0.0829734\ttotal: 10.4s\tremaining: 685ms\n",
            "563:\tlearn: 0.0829478\ttotal: 10.4s\tremaining: 666ms\n",
            "564:\tlearn: 0.0829237\ttotal: 10.5s\tremaining: 648ms\n",
            "565:\tlearn: 0.0828393\ttotal: 10.5s\tremaining: 629ms\n",
            "566:\tlearn: 0.0827395\ttotal: 10.5s\tremaining: 610ms\n",
            "567:\tlearn: 0.0826817\ttotal: 10.5s\tremaining: 592ms\n",
            "568:\tlearn: 0.0825733\ttotal: 10.5s\tremaining: 573ms\n",
            "569:\tlearn: 0.0824880\ttotal: 10.6s\tremaining: 556ms\n",
            "570:\tlearn: 0.0824281\ttotal: 10.6s\tremaining: 537ms\n",
            "571:\tlearn: 0.0823702\ttotal: 10.6s\tremaining: 519ms\n",
            "572:\tlearn: 0.0822617\ttotal: 10.6s\tremaining: 500ms\n",
            "573:\tlearn: 0.0822085\ttotal: 10.6s\tremaining: 482ms\n",
            "574:\tlearn: 0.0821994\ttotal: 10.7s\tremaining: 463ms\n",
            "575:\tlearn: 0.0821508\ttotal: 10.7s\tremaining: 445ms\n",
            "576:\tlearn: 0.0821474\ttotal: 10.7s\tremaining: 426ms\n",
            "577:\tlearn: 0.0820837\ttotal: 10.7s\tremaining: 407ms\n",
            "578:\tlearn: 0.0820559\ttotal: 10.7s\tremaining: 389ms\n",
            "579:\tlearn: 0.0820137\ttotal: 10.7s\tremaining: 370ms\n",
            "580:\tlearn: 0.0819617\ttotal: 10.8s\tremaining: 352ms\n",
            "581:\tlearn: 0.0819096\ttotal: 10.8s\tremaining: 333ms\n",
            "582:\tlearn: 0.0818754\ttotal: 10.8s\tremaining: 315ms\n",
            "583:\tlearn: 0.0818660\ttotal: 10.8s\tremaining: 296ms\n",
            "584:\tlearn: 0.0818421\ttotal: 10.8s\tremaining: 278ms\n",
            "585:\tlearn: 0.0818355\ttotal: 10.8s\tremaining: 259ms\n",
            "586:\tlearn: 0.0818043\ttotal: 10.9s\tremaining: 241ms\n",
            "587:\tlearn: 0.0817609\ttotal: 10.9s\tremaining: 222ms\n",
            "588:\tlearn: 0.0817058\ttotal: 10.9s\tremaining: 204ms\n",
            "589:\tlearn: 0.0816671\ttotal: 10.9s\tremaining: 185ms\n",
            "590:\tlearn: 0.0815780\ttotal: 10.9s\tremaining: 167ms\n",
            "591:\tlearn: 0.0814990\ttotal: 11s\tremaining: 148ms\n",
            "592:\tlearn: 0.0814978\ttotal: 11s\tremaining: 130ms\n",
            "593:\tlearn: 0.0814426\ttotal: 11s\tremaining: 111ms\n",
            "594:\tlearn: 0.0814105\ttotal: 11s\tremaining: 92.6ms\n",
            "595:\tlearn: 0.0813722\ttotal: 11s\tremaining: 74.1ms\n",
            "596:\tlearn: 0.0813661\ttotal: 11.1s\tremaining: 55.6ms\n",
            "597:\tlearn: 0.0813567\ttotal: 11.1s\tremaining: 37.1ms\n",
            "598:\tlearn: 0.0813243\ttotal: 11.1s\tremaining: 18.5ms\n",
            "599:\tlearn: 0.0812044\ttotal: 11.1s\tremaining: 0us\n"
          ]
        },
        {
          "output_type": "execute_result",
          "data": {
            "text/plain": [
              "<catboost.core.CatBoostRegressor at 0x7f35ce291950>"
            ]
          },
          "metadata": {},
          "execution_count": 52
        }
      ]
    },
    {
      "cell_type": "markdown",
      "metadata": {
        "id": "aR32psm53RDR"
      },
      "source": [
        "## 4. Final result <a class=\"anchor\" id=\"4-bullet\"></a>\n",
        "[back to the table of contents](#0-bullet)"
      ]
    },
    {
      "cell_type": "code",
      "metadata": {
        "id": "L9gHN00Rtr3q"
      },
      "source": [
        "y_pred_3 = np.exp(catbst.predict(df_test[list_best_features]))"
      ],
      "execution_count": 56,
      "outputs": []
    },
    {
      "cell_type": "code",
      "metadata": {
        "id": "fkEWCEI4vG6K"
      },
      "source": [
        "submission = pd.read_csv('sample_submission.csv')\n",
        "submission['SalePrice'] = y_pred_3\n",
        "submission.to_csv('submission_3', index=False)"
      ],
      "execution_count": 57,
      "outputs": []
    }
  ]
}